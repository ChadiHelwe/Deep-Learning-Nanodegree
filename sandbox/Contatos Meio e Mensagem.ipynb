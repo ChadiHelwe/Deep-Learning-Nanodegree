{
 "cells": [
  {
   "cell_type": "code",
   "execution_count": 1,
   "metadata": {
    "collapsed": true
   },
   "outputs": [],
   "source": [
    "import requests\n",
    "from bs4 import BeautifulSoup\n",
    "import pandas as pd\n",
    "\n",
    "from lxml import etree"
   ]
  },
  {
   "cell_type": "code",
   "execution_count": 2,
   "metadata": {
    "collapsed": true
   },
   "outputs": [],
   "source": [
    "url = 'http://portfoliodeagencias.meioemensagem.com.br/anuario/propaganda/agencias/listacompleta'"
   ]
  },
  {
   "cell_type": "code",
   "execution_count": 3,
   "metadata": {
    "collapsed": true
   },
   "outputs": [],
   "source": [
    "html = requests.get(url).content"
   ]
  },
  {
   "cell_type": "code",
   "execution_count": 4,
   "metadata": {
    "collapsed": true
   },
   "outputs": [],
   "source": [
    "soup = BeautifulSoup(html, 'lxml')"
   ]
  },
  {
   "cell_type": "code",
   "execution_count": 5,
   "metadata": {
    "collapsed": true
   },
   "outputs": [],
   "source": [
    "l1 = soup.select_one('.content-lista-completa')"
   ]
  },
  {
   "cell_type": "code",
   "execution_count": 6,
   "metadata": {
    "collapsed": true
   },
   "outputs": [],
   "source": [
    "l2 = soup.select_one('.content-lista-completa-free')"
   ]
  },
  {
   "cell_type": "code",
   "execution_count": 11,
   "metadata": {
    "collapsed": true
   },
   "outputs": [],
   "source": [
    "data = []\n",
    "for l in [l1, l2]:\n",
    "    for ul in l.select('ul'):\n",
    "        item = {}\n",
    "        lis = ul.findChildren('li')\n",
    "        item['name'] = lis[0].findChildren('strong')[0].text\n",
    "        item['phone'] = lis[1].findChildren('strong')[0].text.replace('(','').replace(') ','').replace('.','')\n",
    "        item['email'] = lis[2].findChildren('a')[0].attrs['href'].replace('mailto:', '')\n",
    "        data.append(item)\n",
    "\n",
    "df = pd.DataFrame(data, columns=['name', 'phone', 'email'])"
   ]
  },
  {
   "cell_type": "code",
   "execution_count": 12,
   "metadata": {},
   "outputs": [
    {
     "data": {
      "text/html": [
       "<div>\n",
       "<table border=\"1\" class=\"dataframe\">\n",
       "  <thead>\n",
       "    <tr style=\"text-align: right;\">\n",
       "      <th></th>\n",
       "      <th>name</th>\n",
       "      <th>phone</th>\n",
       "      <th>email</th>\n",
       "    </tr>\n",
       "  </thead>\n",
       "  <tbody>\n",
       "    <tr>\n",
       "      <th>0</th>\n",
       "      <td>100% DESIGN</td>\n",
       "      <td>1130325100</td>\n",
       "      <td>contato@100porcento.net</td>\n",
       "    </tr>\n",
       "    <tr>\n",
       "      <th>1</th>\n",
       "      <td>AFRICA</td>\n",
       "      <td>1130949999</td>\n",
       "      <td>africa@africa.com.br</td>\n",
       "    </tr>\n",
       "    <tr>\n",
       "      <th>2</th>\n",
       "      <td>ALMAPBBDO</td>\n",
       "      <td>1123954000</td>\n",
       "      <td>almap@almapbbdo.com.br</td>\n",
       "    </tr>\n",
       "    <tr>\n",
       "      <th>3</th>\n",
       "      <td>ATELIÊ DE PROPAGANDA</td>\n",
       "      <td>1136282881</td>\n",
       "      <td>deborapizzo@ateliedepropaganda.com.br</td>\n",
       "    </tr>\n",
       "    <tr>\n",
       "      <th>4</th>\n",
       "      <td>ÁTOMO COMUNICAÇÃO</td>\n",
       "      <td>1130242560</td>\n",
       "      <td>atomo@atomocom.com.br</td>\n",
       "    </tr>\n",
       "  </tbody>\n",
       "</table>\n",
       "</div>"
      ],
      "text/plain": [
       "                   name       phone                                  email\n",
       "0           100% DESIGN  1130325100                contato@100porcento.net\n",
       "1                AFRICA  1130949999                   africa@africa.com.br\n",
       "2             ALMAPBBDO  1123954000                 almap@almapbbdo.com.br\n",
       "3  ATELIÊ DE PROPAGANDA  1136282881  deborapizzo@ateliedepropaganda.com.br\n",
       "4     ÁTOMO COMUNICAÇÃO  1130242560                  atomo@atomocom.com.br"
      ]
     },
     "execution_count": 12,
     "metadata": {},
     "output_type": "execute_result"
    }
   ],
   "source": [
    "df.head()"
   ]
  },
  {
   "cell_type": "code",
   "execution_count": 13,
   "metadata": {
    "collapsed": true
   },
   "outputs": [],
   "source": [
    "df.to_csv('mail-mensagem.csv', sep=';', encoding='utf-8')"
   ]
  },
  {
   "cell_type": "code",
   "execution_count": null,
   "metadata": {
    "collapsed": true
   },
   "outputs": [],
   "source": []
  }
 ],
 "metadata": {
  "kernelspec": {
   "display_name": "Python 3",
   "language": "python",
   "name": "python3"
  },
  "language_info": {
   "codemirror_mode": {
    "name": "ipython",
    "version": 3
   },
   "file_extension": ".py",
   "mimetype": "text/x-python",
   "name": "python",
   "nbconvert_exporter": "python",
   "pygments_lexer": "ipython3",
   "version": "3.4.3"
  }
 },
 "nbformat": 4,
 "nbformat_minor": 2
}
