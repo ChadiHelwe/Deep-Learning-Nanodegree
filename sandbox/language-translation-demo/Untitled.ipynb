{
 "cells": [
  {
   "cell_type": "code",
   "execution_count": 73,
   "metadata": {
    "collapsed": true
   },
   "outputs": [],
   "source": [
    "with open('data/es-en/europarl-v7.es-en.en') as f:\n",
    "    source = f.read()"
   ]
  },
  {
   "cell_type": "code",
   "execution_count": 74,
   "metadata": {
    "collapsed": true
   },
   "outputs": [],
   "source": [
    "from collections import Counter"
   ]
  },
  {
   "cell_type": "code",
   "execution_count": 75,
   "metadata": {
    "collapsed": true
   },
   "outputs": [],
   "source": [
    "tokens = \"\"\"()?!.,:'\";'*%$&´`<>-#/|\\\\\"\"\"\n",
    "\n",
    "source = source.lower()\n",
    "for token in tokens:\n",
    "    source = source.replace(token, '')"
   ]
  },
  {
   "cell_type": "code",
   "execution_count": 76,
   "metadata": {},
   "outputs": [
    {
     "name": "stdout",
     "output_type": "stream",
     "text": [
      "resumption of the session\n",
      "i declare resumed the session of the european parliament adjourned on friday 17 december 1999 and i would like once again to wish you a happy new year in the hope that you enjoyed a pleasant festive period\n",
      "although as you will have seen the dreaded millennium bug failed to materialise still the people in a number of countries suffered a series of natural disasters that truly were dreadful\n",
      "you have requested a debate on this subject in the course of the next few days dur\n"
     ]
    }
   ],
   "source": [
    "print(source[:500])"
   ]
  },
  {
   "cell_type": "code",
   "execution_count": 77,
   "metadata": {
    "collapsed": true
   },
   "outputs": [],
   "source": [
    "words = Counter([w for line in source.split('\\n') for w in line.split()])"
   ]
  },
  {
   "cell_type": "code",
   "execution_count": 78,
   "metadata": {},
   "outputs": [
    {
     "data": {
      "text/plain": [
       "[('the', 3768776),\n",
       " ('of', 1785811),\n",
       " ('to', 1657829),\n",
       " ('and', 1415784),\n",
       " ('in', 1168574),\n",
       " ('that', 902094),\n",
       " ('a', 833282),\n",
       " ('is', 831415),\n",
       " ('for', 576231),\n",
       " ('we', 568321)]"
      ]
     },
     "execution_count": 78,
     "metadata": {},
     "output_type": "execute_result"
    }
   ],
   "source": [
    "words.most_common(10)"
   ]
  },
  {
   "cell_type": "code",
   "execution_count": 79,
   "metadata": {
    "collapsed": true
   },
   "outputs": [],
   "source": [
    "from nltk.corpus import stopwords\n",
    "\n",
    "stopwords = set(stopwords.words('english'))"
   ]
  },
  {
   "cell_type": "code",
   "execution_count": 80,
   "metadata": {
    "collapsed": true
   },
   "outputs": [],
   "source": [
    "for sw in stopwords:\n",
    "    try:\n",
    "        words.pop(sw)\n",
    "    except:\n",
    "        pass"
   ]
  },
  {
   "cell_type": "code",
   "execution_count": 82,
   "metadata": {},
   "outputs": [
    {
     "data": {
      "text/plain": [
       "[('european', 288266),\n",
       " ('mr', 193021),\n",
       " ('would', 165731),\n",
       " ('also', 163697),\n",
       " ('commission', 156919),\n",
       " ('must', 142866),\n",
       " ('president', 140081),\n",
       " ('union', 118353),\n",
       " ('states', 117039),\n",
       " ('member', 114299)]"
      ]
     },
     "execution_count": 82,
     "metadata": {},
     "output_type": "execute_result"
    }
   ],
   "source": [
    "words.most_common(10)"
   ]
  },
  {
   "cell_type": "code",
   "execution_count": 84,
   "metadata": {},
   "outputs": [
    {
     "data": {
      "text/plain": [
       "[('pacificrim', 1),\n",
       " ('leadacid', 1),\n",
       " ('bettersuited', 1),\n",
       " ('compressive', 1),\n",
       " ('valueprojecting', 1),\n",
       " ('schätzing', 1),\n",
       " ('rté', 1),\n",
       " ('republished', 1),\n",
       " ('b4091198', 1),\n",
       " ('b601342007', 1)]"
      ]
     },
     "execution_count": 84,
     "metadata": {},
     "output_type": "execute_result"
    }
   ],
   "source": [
    "words.most_common()[-60000:][:10]"
   ]
  },
  {
   "cell_type": "code",
   "execution_count": 103,
   "metadata": {
    "collapsed": true
   },
   "outputs": [],
   "source": [
    "least_common = [w for w, c in words.most_common()[-80000:]]"
   ]
  },
  {
   "cell_type": "code",
   "execution_count": 86,
   "metadata": {
    "collapsed": true
   },
   "outputs": [],
   "source": [
    "sentences = source.split('\\n')"
   ]
  },
  {
   "cell_type": "code",
   "execution_count": 87,
   "metadata": {},
   "outputs": [
    {
     "data": {
      "text/plain": [
       "'i declare resumed the session of the european parliament adjourned on friday 17 december 1999 and i would like once again to wish you a happy new year in the hope that you enjoyed a pleasant festive period'"
      ]
     },
     "execution_count": 87,
     "metadata": {},
     "output_type": "execute_result"
    }
   ],
   "source": [
    "sentences[1]"
   ]
  },
  {
   "cell_type": "code",
   "execution_count": 104,
   "metadata": {
    "collapsed": true
   },
   "outputs": [],
   "source": [
    "most_common = set([w for w, count in words.most_common(10000)])\n",
    "least_common = set(least_common)"
   ]
  },
  {
   "cell_type": "code",
   "execution_count": 111,
   "metadata": {
    "collapsed": true
   },
   "outputs": [],
   "source": [
    "indexes = []\n",
    "for i, sentence in enumerate(sentences):\n",
    "    ws = set([w for w in sentence.split()])\n",
    "    pos = len(most_common.intersection(ws))\n",
    "    neg = len(least_common.intersection(ws))\n",
    "    if pos - neg > 20:\n",
    "        indexes.append(i)"
   ]
  },
  {
   "cell_type": "code",
   "execution_count": 112,
   "metadata": {},
   "outputs": [
    {
     "data": {
      "text/plain": [
       "195881"
      ]
     },
     "execution_count": 112,
     "metadata": {},
     "output_type": "execute_result"
    }
   ],
   "source": [
    "len(indexes)"
   ]
  },
  {
   "cell_type": "code",
   "execution_count": 114,
   "metadata": {},
   "outputs": [
    {
     "data": {
      "text/plain": [
       "[10, 16, 21, 22, 30, 31, 56, 72, 77, 79]"
      ]
     },
     "execution_count": 114,
     "metadata": {},
     "output_type": "execute_result"
    }
   ],
   "source": [
    "indexes[:10]"
   ]
  },
  {
   "cell_type": "code",
   "execution_count": 117,
   "metadata": {},
   "outputs": [
    {
     "data": {
      "text/plain": [
       "'resumption of the session\\ni declare resumed the session of the european parliament adjourned on friday 17 december 1999 and i would like once again to wish you a happy new year in the hope that you enjoyed a pleasant festive period\\nalthough as you will have seen the dreaded millennium bug failed to materialise still the people in a number of countries suffered a series of natural disasters that truly were dreadful\\nyou have requested a debate on this subject in the course of the next few days dur'"
      ]
     },
     "execution_count": 117,
     "metadata": {},
     "output_type": "execute_result"
    }
   ],
   "source": [
    "source[:500]"
   ]
  },
  {
   "cell_type": "code",
   "execution_count": 119,
   "metadata": {
    "collapsed": true
   },
   "outputs": [],
   "source": [
    "sentences = source.split('\\n')"
   ]
  },
  {
   "cell_type": "code",
   "execution_count": 120,
   "metadata": {
    "collapsed": true
   },
   "outputs": [],
   "source": [
    "del source"
   ]
  },
  {
   "cell_type": "code",
   "execution_count": 121,
   "metadata": {
    "collapsed": true
   },
   "outputs": [],
   "source": [
    "del most_common"
   ]
  },
  {
   "cell_type": "code",
   "execution_count": 122,
   "metadata": {
    "collapsed": true
   },
   "outputs": [],
   "source": [
    "import pickle"
   ]
  },
  {
   "cell_type": "code",
   "execution_count": 127,
   "metadata": {
    "collapsed": true
   },
   "outputs": [],
   "source": [
    "pickle.dump(indexes, open('most_common_indexes.p', 'wb'))"
   ]
  },
  {
   "cell_type": "markdown",
   "metadata": {},
   "source": [
    "## Checkpoint"
   ]
  },
  {
   "cell_type": "code",
   "execution_count": 2,
   "metadata": {},
   "outputs": [
    {
     "data": {
      "text/plain": [
       "[10, 16, 21, 22, 30, 31, 56, 72, 77, 79]"
      ]
     },
     "execution_count": 2,
     "metadata": {},
     "output_type": "execute_result"
    }
   ],
   "source": [
    "import pickle\n",
    "\n",
    "indexes = pickle.load(open('most_common_indexes.p', 'rb'))\n",
    "indexes[:10]"
   ]
  },
  {
   "cell_type": "code",
   "execution_count": 25,
   "metadata": {},
   "outputs": [
    {
     "name": "stderr",
     "output_type": "stream",
     "text": [
      "\n",
      "  0%|          | 0/195881 [00:00<?, ?it/s]\u001b[A\n",
      " 45%|████▌     | 88471/195881 [00:00<00:00, 884708.73it/s]\u001b[A\n",
      " 97%|█████████▋| 189131/195881 [00:00<00:00, 918057.50it/s]\u001b[A\n",
      "100%|██████████| 195881/195881 [00:00<00:00, 931172.26it/s]\u001b[A"
     ]
    }
   ],
   "source": [
    "from tqdm import tqdm\n",
    "import linecache\n",
    "\n",
    "source = []\n",
    "for i in tqdm(indexes):\n",
    "    line = linecache.getline('data/es-en/europarl-v7.es-en.en', i)\n",
    "    source.append(line)"
   ]
  },
  {
   "cell_type": "code",
   "execution_count": 26,
   "metadata": {},
   "outputs": [
    {
     "data": {
      "text/plain": [
       "195881"
      ]
     },
     "execution_count": 26,
     "metadata": {},
     "output_type": "execute_result"
    }
   ],
   "source": [
    "len(source)"
   ]
  },
  {
   "cell_type": "code",
   "execution_count": 27,
   "metadata": {},
   "outputs": [
    {
     "name": "stderr",
     "output_type": "stream",
     "text": [
      "\n",
      "  0%|          | 0/195881 [00:00<?, ?it/s]\u001b[A\n",
      " 49%|████▉     | 96400/195881 [00:00<00:00, 963994.02it/s]\u001b[A\n",
      "100%|██████████| 195881/195881 [00:00<00:00, 991511.72it/s]\u001b[A"
     ]
    }
   ],
   "source": [
    "target = []\n",
    "\n",
    "for i in tqdm(indexes):\n",
    "    line = linecache.getline('data/es-en/europarl-v7.es-en.es', i)\n",
    "    target.append(line)"
   ]
  },
  {
   "cell_type": "code",
   "execution_count": 28,
   "metadata": {},
   "outputs": [
    {
     "data": {
      "text/plain": [
       "195881"
      ]
     },
     "execution_count": 28,
     "metadata": {},
     "output_type": "execute_result"
    }
   ],
   "source": [
    "len(target)"
   ]
  },
  {
   "cell_type": "code",
   "execution_count": 19,
   "metadata": {
    "collapsed": true
   },
   "outputs": [],
   "source": [
    "def check_sample(source, target, i):\n",
    "    print('English:\\n')\n",
    "    print(source[i])\n",
    "    print('\\nSpanish:\\n')\n",
    "    print(target[i])"
   ]
  },
  {
   "cell_type": "code",
   "execution_count": 35,
   "metadata": {},
   "outputs": [
    {
     "name": "stdout",
     "output_type": "stream",
     "text": [
      "English:\n",
      "\n",
      "In any case, this idea must be encouraged, and it will doubtless be during this attempt to protect financial interests that we realise that we need to include a Community corpus iuris in the Treaties.\n",
      "\n",
      "\n",
      "Spanish:\n",
      "\n",
      "Con todo, esta idea debe promoverse y no cabe duda de que en este intento de proteger los intereses financieros nos daremos cuenta de la necesidad de disponer de un corpus juris comunitario que deberá incorporarse en los Tratados.\n",
      "\n"
     ]
    }
   ],
   "source": [
    "check_sample(source, target, 190)"
   ]
  },
  {
   "cell_type": "code",
   "execution_count": 31,
   "metadata": {},
   "outputs": [
    {
     "name": "stdout",
     "output_type": "stream",
     "text": [
      "Dataset Stats\n",
      "Roughly the number of unique words: 99183\n",
      "Number of sentences: 195881\n",
      "Average number of words in a sentence: 29.166876828278394\n"
     ]
    }
   ],
   "source": [
    "import numpy as np\n",
    "print('Dataset Stats')\n",
    "print('Roughly the number of unique words: {}'.format(len({w: None for s in source for w in s.split()})))\n",
    "\n",
    "word_counts = [len(sentence.split()) for sentence in source]\n",
    "print('Number of sentences: {}'.format(len(source)))\n",
    "print('Average number of words in a sentence: {}'.format(np.average(word_counts)))"
   ]
  },
  {
   "cell_type": "code",
   "execution_count": 59,
   "metadata": {},
   "outputs": [
    {
     "name": "stderr",
     "output_type": "stream",
     "text": [
      "100%|██████████| 195881/195881 [00:00<00:00, 360961.02it/s]\n"
     ]
    }
   ],
   "source": [
    "source = []\n",
    "target = []\n",
    "for i in tqdm(indexes):\n",
    "    source_line = linecache.getline('data/es-en/europarl-v7.es-en.en', i)\n",
    "    if 0 < len(source_line.split(' ')) < 15:\n",
    "        source.append(source_line)\n",
    "        target_line = linecache.getline('data/es-en/europarl-v7.es-en.es', i)\n",
    "        target.append(target_line)"
   ]
  },
  {
   "cell_type": "code",
   "execution_count": 60,
   "metadata": {},
   "outputs": [
    {
     "name": "stdout",
     "output_type": "stream",
     "text": [
      "37816 37816\n"
     ]
    }
   ],
   "source": [
    "print(len(source), len(target))"
   ]
  },
  {
   "cell_type": "code",
   "execution_count": 61,
   "metadata": {},
   "outputs": [
    {
     "name": "stdout",
     "output_type": "stream",
     "text": [
      "Dataset Stats\n",
      "Roughly the number of unique words: 25800\n",
      "Number of sentences: 37816\n",
      "Average number of words in a sentence: 9.249259572667654\n"
     ]
    }
   ],
   "source": [
    "print('Dataset Stats')\n",
    "print('Roughly the number of unique words: {}'.format(len({w: None for s in source for w in s.split()})))\n",
    "\n",
    "word_counts = [len(sentence.split()) for sentence in source]\n",
    "print('Number of sentences: {}'.format(len(source)))\n",
    "print('Average number of words in a sentence: {}'.format(np.average(word_counts)))"
   ]
  },
  {
   "cell_type": "code",
   "execution_count": null,
   "metadata": {},
   "outputs": [],
   "source": []
  },
  {
   "cell_type": "code",
   "execution_count": null,
   "metadata": {
    "collapsed": true
   },
   "outputs": [],
   "source": []
  }
 ],
 "metadata": {
  "kernelspec": {
   "display_name": "Python 3",
   "language": "python",
   "name": "python3"
  },
  "language_info": {
   "codemirror_mode": {
    "name": "ipython",
    "version": 3
   },
   "file_extension": ".py",
   "mimetype": "text/x-python",
   "name": "python",
   "nbconvert_exporter": "python",
   "pygments_lexer": "ipython3",
   "version": "3.4.3"
  }
 },
 "nbformat": 4,
 "nbformat_minor": 2
}
