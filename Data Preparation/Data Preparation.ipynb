{
 "cells": [
  {
   "cell_type": "markdown",
   "metadata": {},
   "source": [
    "Links recomendados\n",
    "\n",
    "https://br.udacity.com/course/data-wrangling-with-mongodb--ud032/\n",
    "\n",
    "https://br.udacity.com/course/intro-to-machine-learning--ud120/"
   ]
  },
  {
   "cell_type": "markdown",
   "metadata": {
    "collapsed": true
   },
   "source": [
    "# Testando Modelos\n",
    "\n",
    "- Regressão retorna um valor, classificação retorna um estado.\n",
    "\n",
    "- Overfitting: qndo o modelo \"decora\" os dados de forma a não generalizar novos inputs\n",
    "\n",
    "- Nunca usar os dados de teste no treinamento!!"
   ]
  },
  {
   "cell_type": "markdown",
   "metadata": {},
   "source": [
    "# Confusion Matrix\n",
    "\n",
    "Quão bom este modelo é?\n",
    "- Confusion Matrix (True Posit, False Negat, True negat, False Posit)"
   ]
  },
  {
   "cell_type": "markdown",
   "metadata": {},
   "source": [
    "# Accuracy\n",
    "\n",
    "accuracy = $\\frac {True Posit + True Negat}{Total}$"
   ]
  },
  {
   "cell_type": "code",
   "execution_count": 1,
   "metadata": {},
   "outputs": [
    {
     "data": {
      "text/plain": [
       "0.7857142857142857"
      ]
     },
     "execution_count": 1,
     "metadata": {},
     "output_type": "execute_result"
    }
   ],
   "source": [
    "(6 + 5)/14"
   ]
  },
  {
   "cell_type": "markdown",
   "metadata": {},
   "source": [
    "# Regression Metrics\n",
    "\n",
    "- Mean Absolute Error é a soma total das distancias entre os pontos (data points) e a linha do modelo. (Não muito bom com gradient dessent)\n",
    "- Mean Squared Error é o quadrado das distancias entre os pontos e a linha.\n",
    "- R2 Score é a comparação do MSE entre o modelo e o MSE do modelo mais simples possível. $R2 = 1 - Model MSE / Simple Model MSE$"
   ]
  },
  {
   "cell_type": "markdown",
   "metadata": {},
   "source": [
    "# Types of Errors\n",
    "\n",
    "- SuperSimplificar o problema (underfitting) - Problema no bias (high bias) - não responde bem ao teste\n",
    "- SuperComplicar o problema (overfitting) - Problema na variedade (high variance) - responde perfeitamente ao teste"
   ]
  },
  {
   "cell_type": "markdown",
   "metadata": {},
   "source": [
    "# Model Complexity Graph\n",
    "\n",
    "- Dividir os dados em 3 grupos, training, validation e test. O grupo de validação vai ajudar a escolher o melhor modelo e evitar under e over fitting."
   ]
  },
  {
   "cell_type": "markdown",
   "metadata": {},
   "source": [
    "# K-Fold Cross Validation\n",
    "\n",
    "- Automaticamente divide os dados nos grupos de teste e treinamento de forma dinamica e usa todos os dados para treinar e testar o modelo."
   ]
  },
  {
   "cell_type": "code",
   "execution_count": null,
   "metadata": {
    "collapsed": true
   },
   "outputs": [],
   "source": []
  }
 ],
 "metadata": {
  "kernelspec": {
   "display_name": "Python 3",
   "language": "python",
   "name": "python3"
  },
  "language_info": {
   "codemirror_mode": {
    "name": "ipython",
    "version": 3
   },
   "file_extension": ".py",
   "mimetype": "text/x-python",
   "name": "python",
   "nbconvert_exporter": "python",
   "pygments_lexer": "ipython3",
   "version": "3.4.3"
  }
 },
 "nbformat": 4,
 "nbformat_minor": 2
}
