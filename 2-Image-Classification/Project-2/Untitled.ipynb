{
 "cells": [
  {
   "cell_type": "code",
   "execution_count": 1,
   "metadata": {},
   "outputs": [
    {
     "name": "stdout",
     "output_type": "stream",
     "text": [
      "All files found!\n"
     ]
    }
   ],
   "source": [
    "\"\"\"\n",
    "DON'T MODIFY ANYTHING IN THIS CELL THAT IS BELOW THIS LINE\n",
    "\"\"\"\n",
    "from urllib.request import urlretrieve\n",
    "from os.path import isfile, isdir\n",
    "from tqdm import tqdm\n",
    "import problem_unittests as tests\n",
    "import tarfile\n",
    "\n",
    "cifar10_dataset_folder_path = 'cifar-10-batches-py'\n",
    "\n",
    "# Use Floyd's cifar-10 dataset if present\n",
    "floyd_cifar10_location = '/input/cifar-10/python.tar.gz'\n",
    "if isfile(floyd_cifar10_location):\n",
    "    tar_gz_path = floyd_cifar10_location\n",
    "else:\n",
    "    tar_gz_path = 'cifar-10-python.tar.gz'\n",
    "\n",
    "class DLProgress(tqdm):\n",
    "    last_block = 0\n",
    "\n",
    "    def hook(self, block_num=1, block_size=1, total_size=None):\n",
    "        self.total = total_size\n",
    "        self.update((block_num - self.last_block) * block_size)\n",
    "        self.last_block = block_num\n",
    "\n",
    "if not isfile(tar_gz_path):\n",
    "    with DLProgress(unit='B', unit_scale=True, miniters=1, desc='CIFAR-10 Dataset') as pbar:\n",
    "        urlretrieve(\n",
    "            'https://www.cs.toronto.edu/~kriz/cifar-10-python.tar.gz',\n",
    "            tar_gz_path,\n",
    "            pbar.hook)\n",
    "\n",
    "if not isdir(cifar10_dataset_folder_path):\n",
    "    with tarfile.open(tar_gz_path) as tar:\n",
    "        tar.extractall()\n",
    "        tar.close()\n",
    "\n",
    "\n",
    "tests.test_folder_path(cifar10_dataset_folder_path)"
   ]
  },
  {
   "cell_type": "code",
   "execution_count": 2,
   "metadata": {},
   "outputs": [
    {
     "name": "stdout",
     "output_type": "stream",
     "text": [
      "\n",
      "Stats of batch 5:\n",
      "Samples: 10000\n",
      "Label Counts: {0: 1014, 1: 1014, 2: 952, 3: 1016, 4: 997, 5: 1025, 6: 980, 7: 977, 8: 1003, 9: 1022}\n",
      "First 20 Labels: [1, 8, 5, 1, 5, 7, 4, 3, 8, 2, 7, 2, 0, 1, 5, 9, 6, 2, 0, 8]\n",
      "\n",
      "Example of Image 9999:\n",
      "Image - Min Value: 4 Max Value: 255\n",
      "Image - Shape: (32, 32, 3)\n",
      "Label - Label Id: 1 Name: automobile\n"
     ]
    },
    {
     "data": {
      "image/png": "[encoded data removed]",
      "text/plain": [
       "<matplotlib.figure.Figure at 0x7f55ecb0b780>"
      ]
     },
     "metadata": {
      "image/png": {
       "height": 250,
       "width": 253
      }
     },
     "output_type": "display_data"
    }
   ],
   "source": [
    "%matplotlib inline\n",
    "%config InlineBackend.figure_format = 'retina'\n",
    "\n",
    "import helper\n",
    "import numpy as np\n",
    "\n",
    "# Explore the dataset\n",
    "batch_id = 5\n",
    "sample_id = 9999\n",
    "helper.display_stats(cifar10_dataset_folder_path, batch_id, sample_id)"
   ]
  },
  {
   "cell_type": "code",
   "execution_count": 3,
   "metadata": {},
   "outputs": [
    {
     "name": "stdout",
     "output_type": "stream",
     "text": [
      "Tests Passed\n"
     ]
    }
   ],
   "source": [
    "def normalize(x):\n",
    "    \"\"\"\n",
    "    Normalize a list of sample image data in the range of 0 to 1\n",
    "    : x: List of image data.  The image shape is (32, 32, 3)\n",
    "    : return: Numpy array of normalize data\n",
    "    \"\"\"\n",
    "    x = x.astype('float32')\n",
    "    x /= 255\n",
    "    return x\n",
    "\n",
    "\n",
    "\"\"\"\n",
    "DON'T MODIFY ANYTHING IN THIS CELL THAT IS BELOW THIS LINE\n",
    "\"\"\"\n",
    "tests.test_normalize(normalize)"
   ]
  },
  {
   "cell_type": "code",
   "execution_count": 4,
   "metadata": {},
   "outputs": [
    {
     "name": "stdout",
     "output_type": "stream",
     "text": [
      "Tests Passed\n"
     ]
    }
   ],
   "source": [
    "def one_hot_encode(x):\n",
    "    \"\"\"\n",
    "    One hot encode a list of sample labels. Return a one-hot encoded vector for each label.\n",
    "    : x: List of sample Labels\n",
    "    : return: Numpy array of one-hot encoded labels\n",
    "    \"\"\"\n",
    "    labels = []\n",
    "    for label in x:\n",
    "        one_hot = np.array([int(i == label) for i in range(10)])\n",
    "        labels.append(one_hot)\n",
    "    return np.array(labels)\n",
    "\n",
    "\n",
    "\"\"\"\n",
    "DON'T MODIFY ANYTHING IN THIS CELL THAT IS BELOW THIS LINE\n",
    "\"\"\"\n",
    "tests.test_one_hot_encode(one_hot_encode)"
   ]
  },
  {
   "cell_type": "code",
   "execution_count": 5,
   "metadata": {
    "collapsed": true
   },
   "outputs": [],
   "source": [
    "\"\"\"\n",
    "DON'T MODIFY ANYTHING IN THIS CELL\n",
    "\"\"\"\n",
    "# Preprocess Training, Validation, and Testing Data\n",
    "helper.preprocess_and_save_data(cifar10_dataset_folder_path, normalize, one_hot_encode)"
   ]
  },
  {
   "cell_type": "markdown",
   "metadata": {},
   "source": [
    "# Checkpoint"
   ]
  },
  {
   "cell_type": "code",
   "execution_count": 1,
   "metadata": {
    "collapsed": true
   },
   "outputs": [],
   "source": [
    "\"\"\"\n",
    "DON'T MODIFY ANYTHING IN THIS CELL\n",
    "\"\"\"\n",
    "import pickle\n",
    "import problem_unittests as tests\n",
    "import helper\n",
    "\n",
    "import numpy as np\n",
    "\n",
    "# Load the Preprocessed Validation data\n",
    "valid_features, valid_labels = pickle.load(open('preprocess_validation.p', mode='rb'))"
   ]
  },
  {
   "cell_type": "code",
   "execution_count": 2,
   "metadata": {},
   "outputs": [
    {
     "name": "stdout",
     "output_type": "stream",
     "text": [
      "TensorFlow Version: 1.1.0\n",
      "Default GPU Device: /gpu:0\n"
     ]
    }
   ],
   "source": [
    "\"\"\"\n",
    "DON'T MODIFY ANYTHING IN THIS CELL\n",
    "\"\"\"\n",
    "from distutils.version import LooseVersion\n",
    "import warnings\n",
    "import tensorflow as tf\n",
    "\n",
    "# Check TensorFlow Version\n",
    "assert LooseVersion(tf.__version__) >= LooseVersion('1.0'), 'Please use TensorFlow version 1.0 or newer.  You are using {}'.format(tf.__version__)\n",
    "print('TensorFlow Version: {}'.format(tf.__version__))\n",
    "\n",
    "# Check for a GPU\n",
    "if not tf.test.gpu_device_name():\n",
    "    warnings.warn('No GPU found. Please use a GPU to train your neural network.')\n",
    "else:\n",
    "    print('Default GPU Device: {}'.format(tf.test.gpu_device_name()))"
   ]
  },
  {
   "cell_type": "code",
   "execution_count": 3,
   "metadata": {},
   "outputs": [
    {
     "name": "stdout",
     "output_type": "stream",
     "text": [
      "Image Input Tests Passed.\n",
      "Label Input Tests Passed.\n",
      "Keep Prob Tests Passed.\n"
     ]
    }
   ],
   "source": [
    "import tensorflow as tf\n",
    "\n",
    "def neural_net_image_input(image_shape):\n",
    "    \"\"\"\n",
    "    Return a Tensor for a batch of image input\n",
    "    : image_shape: Shape of the images\n",
    "    : return: Tensor for image input.\n",
    "    \"\"\"\n",
    "    batch_size = None\n",
    "    img_hgt = image_shape[0]\n",
    "    img_wdt = image_shape[1]\n",
    "    img_dpt = image_shape[2]\n",
    "\n",
    "    x = tf.placeholder(\n",
    "        tf.float32,\n",
    "        name='x',\n",
    "        shape=[batch_size, img_hgt, img_wdt, img_dpt]\n",
    "    )\n",
    "    return x\n",
    "\n",
    "\n",
    "def neural_net_label_input(n_classes):\n",
    "    \"\"\"\n",
    "    Return a Tensor for a batch of label input\n",
    "    : n_classes: Number of classes\n",
    "    : return: Tensor for label input.\n",
    "    \"\"\"\n",
    "    y = tf.placeholder(tf.float32, [None, n_classes], name='y')\n",
    "    return y\n",
    "\n",
    "\n",
    "def neural_net_keep_prob_input():\n",
    "    \"\"\"\n",
    "    Return a Tensor for keep probability\n",
    "    : return: Tensor for keep probability.\n",
    "    \"\"\"\n",
    "    keep_prob = tf.placeholder(tf.float32, name='keep_prob')\n",
    "    return keep_prob\n",
    "\n",
    "\n",
    "\"\"\"\n",
    "DON'T MODIFY ANYTHING IN THIS CELL THAT IS BELOW THIS LINE\n",
    "\"\"\"\n",
    "tf.reset_default_graph()\n",
    "tests.test_nn_image_inputs(neural_net_image_input)\n",
    "tests.test_nn_label_inputs(neural_net_label_input)\n",
    "tests.test_nn_keep_prob_inputs(neural_net_keep_prob_input)"
   ]
  },
  {
   "cell_type": "code",
   "execution_count": 4,
   "metadata": {
    "collapsed": true
   },
   "outputs": [],
   "source": [
    "def conv_net(x, keep_prob, is_train=True):\n",
    "    \"\"\"\n",
    "    Create a convolutional neural network model\n",
    "    : x: Placeholder tensor that holds image data.\n",
    "    : keep_prob: Placeholder tensor that hold dropout keep probability.\n",
    "    : return: Tensor that represents logits\n",
    "    \"\"\"\n",
    "    #32x32x3\n",
    "    model = tf.layers.conv2d(x, 64, 4, strides=2, padding='same', activation=tf.nn.relu)\n",
    "    \n",
    "    #16x16x64\n",
    "    model = tf.layers.conv2d(model, 128, 4, strides=1, padding='same', activation=tf.nn.relu)\n",
    "    model = tf.nn.dropout(model, keep_prob)\n",
    "    \n",
    "    #16x16x128\n",
    "    model = tf.layers.conv2d(model, 256, 4, strides=2, padding='same', activation=None)\n",
    "    model = tf.nn.relu(model)\n",
    "    \n",
    "    #8x8x256\n",
    "    model = tf.layers.conv2d(model, 384, 4, strides=1, padding='same', activation=tf.nn.relu)\n",
    "    model = tf.nn.dropout(model, keep_prob)\n",
    "    \n",
    "    #8x8x256\n",
    "    model = tf.layers.conv2d(model, 512, 4, strides=2, padding='same', activation=tf.nn.relu)\n",
    "    \n",
    "    #4x4x384\n",
    "    model = tf.reshape(model, (-1, 4*4*512))\n",
    "    \n",
    "    model = tf.layers.dense(model, 512, activation=tf.nn.relu)\n",
    "    model = tf.nn.dropout(model, keep_prob)\n",
    "    \n",
    "    model = tf.layers.dense(model, 128, activation=tf.nn.relu)\n",
    "    \n",
    "    logits = tf.layers.dense(model, 10, activation=None)\n",
    "    \n",
    "    # TODO: return output\n",
    "    return logits\n"
   ]
  },
  {
   "cell_type": "code",
   "execution_count": 6,
   "metadata": {},
   "outputs": [
    {
     "name": "stdout",
     "output_type": "stream",
     "text": [
      "Neural Network Built!\n"
     ]
    }
   ],
   "source": [
    "\"\"\"\n",
    "DON'T MODIFY ANYTHING IN THIS CELL THAT IS BELOW THIS LINE\n",
    "\"\"\"\n",
    "\n",
    "##############################\n",
    "## Build the Neural Network ##\n",
    "##############################\n",
    "\n",
    "# Remove previous weights, bias, inputs, etc..\n",
    "tf.reset_default_graph()\n",
    "\n",
    "# Inputs\n",
    "is_training = tf.placeholder(tf.bool, name='is_training')\n",
    "x = neural_net_image_input((32, 32, 3))\n",
    "y = neural_net_label_input(10)\n",
    "keep_prob = neural_net_keep_prob_input()\n",
    "\n",
    "# Model\n",
    "logits = conv_net(x, keep_prob, is_training)\n",
    "\n",
    "# Name logits Tensor, so that is can be loaded from disk after training\n",
    "logits = tf.identity(logits, name='logits')\n",
    "\n",
    "# Loss and Optimizer\n",
    "cost = tf.reduce_mean(tf.nn.softmax_cross_entropy_with_logits(logits=logits, labels=y))\n",
    "with tf.control_dependencies(tf.get_collection(tf.GraphKeys.UPDATE_OPS)):\n",
    "    optimizer = tf.train.AdamOptimizer().minimize(cost)\n",
    "\n",
    "# Accuracy\n",
    "correct_pred = tf.equal(tf.argmax(logits, 1), tf.argmax(y, 1))\n",
    "accuracy = tf.reduce_mean(tf.cast(correct_pred, tf.float32), name='accuracy')\n",
    "\n",
    "tests.test_conv_net(conv_net)"
   ]
  },
  {
   "cell_type": "code",
   "execution_count": 7,
   "metadata": {},
   "outputs": [
    {
     "name": "stdout",
     "output_type": "stream",
     "text": [
      "Tests Passed\n"
     ]
    }
   ],
   "source": [
    "def train_neural_network(session, optimizer, keep_probability, feature_batch, label_batch):\n",
    "    \"\"\"\n",
    "    Optimize the session on a batch of images and labels\n",
    "    : session: Current TensorFlow session\n",
    "    : optimizer: TensorFlow optimizer function\n",
    "    : keep_probability: keep probability\n",
    "    : feature_batch: Batch of Numpy image data\n",
    "    : label_batch: Batch of Numpy label data\n",
    "    \"\"\"\n",
    "    session.run(optimizer, feed_dict={\n",
    "        x: feature_batch,\n",
    "        y: label_batch,\n",
    "        keep_prob: keep_probability,\n",
    "        is_training: True\n",
    "    })\n",
    "\n",
    "\n",
    "\"\"\"\n",
    "DON'T MODIFY ANYTHING IN THIS CELL THAT IS BELOW THIS LINE\n",
    "\"\"\"\n",
    "tests.test_train_nn(train_neural_network)"
   ]
  },
  {
   "cell_type": "code",
   "execution_count": 8,
   "metadata": {
    "collapsed": true
   },
   "outputs": [],
   "source": [
    "def print_stats(session, feature_batch, label_batch, cost, accuracy):\n",
    "    \"\"\"\n",
    "    Print information about loss and validation accuracy\n",
    "    : session: Current TensorFlow session\n",
    "    : feature_batch: Batch of Numpy image data\n",
    "    : label_batch: Batch of Numpy label data\n",
    "    : cost: TensorFlow cost function\n",
    "    : accuracy: TensorFlow accuracy function\n",
    "    \"\"\"\n",
    "    loss = session.run(cost, feed_dict={\n",
    "        x: feature_batch,\n",
    "        y: label_batch,\n",
    "        keep_prob: 1.,\n",
    "        is_training:False\n",
    "    })\n",
    "    valid_acc = session.run(accuracy, feed_dict={\n",
    "        x: valid_features,\n",
    "        y: valid_labels,\n",
    "        keep_prob: 1.,\n",
    "        is_training:False\n",
    "    })\n",
    "\n",
    "    print('Loss: {:>10.4f} Validation Accuracy: {:.6f}'.format(\n",
    "        loss,\n",
    "        valid_acc))"
   ]
  },
  {
   "cell_type": "code",
   "execution_count": 9,
   "metadata": {
    "collapsed": true
   },
   "outputs": [],
   "source": [
    "# TODO: Tune Parameters\n",
    "epochs = 70\n",
    "batch_size = 128\n",
    "keep_probability = 0.5"
   ]
  },
  {
   "cell_type": "code",
   "execution_count": 10,
   "metadata": {},
   "outputs": [
    {
     "name": "stdout",
     "output_type": "stream",
     "text": [
      "Training...\n",
      "Epoch  1, CIFAR-10 Batch 1:  Loss:     2.0818 Validation Accuracy: 0.320400\n",
      "Epoch  1, CIFAR-10 Batch 2:  Loss:     1.7041 Validation Accuracy: 0.390600\n",
      "Epoch  1, CIFAR-10 Batch 3:  Loss:     1.3295 Validation Accuracy: 0.431800\n",
      "Epoch  1, CIFAR-10 Batch 4:  Loss:     1.6112 Validation Accuracy: 0.460800\n",
      "Epoch  1, CIFAR-10 Batch 5:  Loss:     1.4814 Validation Accuracy: 0.496600\n",
      "Epoch  2, CIFAR-10 Batch 1:  Loss:     1.4602 Validation Accuracy: 0.526000\n",
      "Epoch  2, CIFAR-10 Batch 2:  Loss:     1.2609 Validation Accuracy: 0.515400\n",
      "Epoch  2, CIFAR-10 Batch 3:  Loss:     1.0613 Validation Accuracy: 0.536200\n",
      "Epoch  2, CIFAR-10 Batch 4:  Loss:     1.2434 Validation Accuracy: 0.552000\n",
      "Epoch  2, CIFAR-10 Batch 5:  Loss:     1.2132 Validation Accuracy: 0.584800\n",
      "Epoch  3, CIFAR-10 Batch 1:  Loss:     1.1866 Validation Accuracy: 0.574800\n",
      "Epoch  3, CIFAR-10 Batch 2:  Loss:     1.0405 Validation Accuracy: 0.552600\n",
      "Epoch  3, CIFAR-10 Batch 3:  Loss:     0.7823 Validation Accuracy: 0.599000\n",
      "Epoch  3, CIFAR-10 Batch 4:  Loss:     0.9477 Validation Accuracy: 0.602400\n",
      "Epoch  3, CIFAR-10 Batch 5:  Loss:     0.9218 Validation Accuracy: 0.630800\n",
      "Epoch  4, CIFAR-10 Batch 1:  Loss:     0.9703 Validation Accuracy: 0.618800\n",
      "Epoch  4, CIFAR-10 Batch 2:  Loss:     0.8928 Validation Accuracy: 0.612400\n",
      "Epoch  4, CIFAR-10 Batch 3:  Loss:     0.6183 Validation Accuracy: 0.635800\n",
      "Epoch  4, CIFAR-10 Batch 4:  Loss:     0.7877 Validation Accuracy: 0.650800\n",
      "Epoch  4, CIFAR-10 Batch 5:  Loss:     0.6989 Validation Accuracy: 0.661400\n",
      "Epoch  5, CIFAR-10 Batch 1:  Loss:     0.8651 Validation Accuracy: 0.632600\n",
      "Epoch  5, CIFAR-10 Batch 2:  Loss:     0.6738 Validation Accuracy: 0.666600\n",
      "Epoch  5, CIFAR-10 Batch 3:  Loss:     0.4507 Validation Accuracy: 0.667600\n",
      "Epoch  5, CIFAR-10 Batch 4:  Loss:     0.6063 Validation Accuracy: 0.674400\n",
      "Epoch  5, CIFAR-10 Batch 5:  Loss:     0.5445 Validation Accuracy: 0.671000\n",
      "Keep training? [y/n]y\n",
      "Epoch  6, CIFAR-10 Batch 1:  Loss:     0.5693 Validation Accuracy: 0.680600\n",
      "Epoch  6, CIFAR-10 Batch 2:  Loss:     0.6161 Validation Accuracy: 0.674600\n",
      "Epoch  6, CIFAR-10 Batch 3:  Loss:     0.3895 Validation Accuracy: 0.694600\n",
      "Epoch  6, CIFAR-10 Batch 4:  Loss:     0.5516 Validation Accuracy: 0.679600\n",
      "Epoch  6, CIFAR-10 Batch 5:  Loss:     0.4536 Validation Accuracy: 0.689600\n",
      "Epoch  7, CIFAR-10 Batch 1:  Loss:     0.5974 Validation Accuracy: 0.700200\n",
      "Epoch  7, CIFAR-10 Batch 2:  Loss:     0.5038 Validation Accuracy: 0.707600\n",
      "Epoch  7, CIFAR-10 Batch 3:  Loss:     0.3060 Validation Accuracy: 0.700800\n",
      "Epoch  7, CIFAR-10 Batch 4:  Loss:     0.4896 Validation Accuracy: 0.698800\n",
      "Epoch  7, CIFAR-10 Batch 5:  Loss:     0.4079 Validation Accuracy: 0.703800\n",
      "Epoch  8, CIFAR-10 Batch 1:  Loss:     0.4529 Validation Accuracy: 0.713800\n",
      "Epoch  8, CIFAR-10 Batch 2:  Loss:     0.4534 Validation Accuracy: 0.705000\n",
      "Epoch  8, CIFAR-10 Batch 3:  Loss:     0.2346 Validation Accuracy: 0.715600\n",
      "Epoch  8, CIFAR-10 Batch 4:  Loss:     0.3283 Validation Accuracy: 0.701800\n",
      "Epoch  8, CIFAR-10 Batch 5:  Loss:     0.2868 Validation Accuracy: 0.704800\n",
      "Epoch  9, CIFAR-10 Batch 1:  Loss:     0.3787 Validation Accuracy: 0.700800\n",
      "Epoch  9, CIFAR-10 Batch 2:  Loss:     0.3471 Validation Accuracy: 0.712400\n",
      "Epoch  9, CIFAR-10 Batch 3:  Loss:     0.1967 Validation Accuracy: 0.729000\n",
      "Epoch  9, CIFAR-10 Batch 4:  Loss:     0.3152 Validation Accuracy: 0.721000\n",
      "Epoch  9, CIFAR-10 Batch 5:  Loss:     0.2615 Validation Accuracy: 0.724200\n",
      "Epoch 10, CIFAR-10 Batch 1:  Loss:     0.3695 Validation Accuracy: 0.731800\n",
      "Epoch 10, CIFAR-10 Batch 2:  Loss:     0.2847 Validation Accuracy: 0.721600\n",
      "Epoch 10, CIFAR-10 Batch 3:  Loss:     0.1393 Validation Accuracy: 0.727200\n",
      "Epoch 10, CIFAR-10 Batch 4:  Loss:     0.2426 Validation Accuracy: 0.717600\n",
      "Epoch 10, CIFAR-10 Batch 5:  Loss:     0.2229 Validation Accuracy: 0.701600\n",
      "Keep training? [y/n]y\n",
      "Epoch 11, CIFAR-10 Batch 1:  Loss:     0.2773 Validation Accuracy: 0.716800\n",
      "Epoch 11, CIFAR-10 Batch 2:  Loss:     0.2502 Validation Accuracy: 0.711600\n",
      "Epoch 11, CIFAR-10 Batch 3:  Loss:     0.1510 Validation Accuracy: 0.736200\n",
      "Epoch 11, CIFAR-10 Batch 4:  Loss:     0.2133 Validation Accuracy: 0.731800\n",
      "Epoch 11, CIFAR-10 Batch 5:  Loss:     0.2092 Validation Accuracy: 0.726600\n",
      "Epoch 12, CIFAR-10 Batch 1:  Loss:     0.2067 Validation Accuracy: 0.720800\n",
      "Epoch 12, CIFAR-10 Batch 2:  Loss:     0.1747 Validation Accuracy: 0.733000\n",
      "Epoch 12, CIFAR-10 Batch 3:  Loss:     0.1168 Validation Accuracy: 0.732800\n",
      "Epoch 12, CIFAR-10 Batch 4:  Loss:     0.1803 Validation Accuracy: 0.744400\n",
      "Epoch 12, CIFAR-10 Batch 5:  Loss:     0.1883 Validation Accuracy: 0.733000\n",
      "Epoch 13, CIFAR-10 Batch 1:  Loss:     0.1983 Validation Accuracy: 0.732000\n",
      "Epoch 13, CIFAR-10 Batch 2:  Loss:     0.1919 Validation Accuracy: 0.743200\n",
      "Epoch 13, CIFAR-10 Batch 3:  Loss:     0.0955 Validation Accuracy: 0.744000\n",
      "Epoch 13, CIFAR-10 Batch 4:  Loss:     0.1990 Validation Accuracy: 0.741200\n",
      "Epoch 13, CIFAR-10 Batch 5:  Loss:     0.1444 Validation Accuracy: 0.734400\n",
      "Epoch 14, CIFAR-10 Batch 1:  Loss:     0.1937 Validation Accuracy: 0.731000\n",
      "Epoch 14, CIFAR-10 Batch 2:  Loss:     0.1918 Validation Accuracy: 0.739000\n",
      "Epoch 14, CIFAR-10 Batch 3:  Loss:     0.0898 Validation Accuracy: 0.739600\n",
      "Epoch 14, CIFAR-10 Batch 4:  Loss:     0.1503 Validation Accuracy: 0.735400\n",
      "Epoch 14, CIFAR-10 Batch 5:  Loss:     0.1106 Validation Accuracy: 0.739800\n",
      "Epoch 15, CIFAR-10 Batch 1:  Loss:     0.1460 Validation Accuracy: 0.728000\n",
      "Epoch 15, CIFAR-10 Batch 2:  Loss:     0.1718 Validation Accuracy: 0.744200\n",
      "Epoch 15, CIFAR-10 Batch 3:  Loss:     0.0783 Validation Accuracy: 0.742000\n",
      "Epoch 15, CIFAR-10 Batch 4:  Loss:     0.1206 Validation Accuracy: 0.743800\n",
      "Epoch 15, CIFAR-10 Batch 5:  Loss:     0.0809 Validation Accuracy: 0.748400\n",
      "Keep training? [y/n]y\n",
      "Epoch 16, CIFAR-10 Batch 1:  Loss:     0.1626 Validation Accuracy: 0.731400\n",
      "Epoch 16, CIFAR-10 Batch 2:  Loss:     0.1102 Validation Accuracy: 0.748400\n",
      "Epoch 16, CIFAR-10 Batch 3:  Loss:     0.0820 Validation Accuracy: 0.743800\n",
      "Epoch 16, CIFAR-10 Batch 4:  Loss:     0.1122 Validation Accuracy: 0.739000\n",
      "Epoch 16, CIFAR-10 Batch 5:  Loss:     0.0992 Validation Accuracy: 0.746600\n",
      "Epoch 17, CIFAR-10 Batch 1:  Loss:     0.1283 Validation Accuracy: 0.742400\n",
      "Epoch 17, CIFAR-10 Batch 2:  Loss:     0.1156 Validation Accuracy: 0.755800\n",
      "Epoch 17, CIFAR-10 Batch 3:  Loss:     0.0803 Validation Accuracy: 0.739800\n",
      "Epoch 17, CIFAR-10 Batch 4:  Loss:     0.1079 Validation Accuracy: 0.752200\n",
      "Epoch 17, CIFAR-10 Batch 5:  Loss:     0.1235 Validation Accuracy: 0.754800\n",
      "Epoch 18, CIFAR-10 Batch 1:  Loss:     0.1088 Validation Accuracy: 0.740200\n",
      "Epoch 18, CIFAR-10 Batch 2:  Loss:     0.0848 Validation Accuracy: 0.759400\n",
      "Epoch 18, CIFAR-10 Batch 3:  Loss:     0.0580 Validation Accuracy: 0.755000\n",
      "Epoch 18, CIFAR-10 Batch 4:  Loss:     0.0786 Validation Accuracy: 0.755400\n",
      "Epoch 18, CIFAR-10 Batch 5:  Loss:     0.0646 Validation Accuracy: 0.760800\n",
      "Epoch 19, CIFAR-10 Batch 1:  Loss:     0.1244 Validation Accuracy: 0.748200\n",
      "Epoch 19, CIFAR-10 Batch 2:  Loss:     0.0565 Validation Accuracy: 0.754000\n",
      "Epoch 19, CIFAR-10 Batch 3:  Loss:     0.0466 Validation Accuracy: 0.757400\n",
      "Epoch 19, CIFAR-10 Batch 4:  Loss:     0.0830 Validation Accuracy: 0.752400\n",
      "Epoch 19, CIFAR-10 Batch 5:  Loss:     0.0676 Validation Accuracy: 0.745600\n",
      "Epoch 20, CIFAR-10 Batch 1:  Loss:     0.0991 Validation Accuracy: 0.751600\n",
      "Epoch 20, CIFAR-10 Batch 2:  Loss:     0.1054 Validation Accuracy: 0.755600\n",
      "Epoch 20, CIFAR-10 Batch 3:  Loss:     0.0366 Validation Accuracy: 0.753200\n",
      "Epoch 20, CIFAR-10 Batch 4:  Loss:     0.0966 Validation Accuracy: 0.754000\n",
      "Epoch 20, CIFAR-10 Batch 5:  Loss:     0.0513 Validation Accuracy: 0.748600\n",
      "Keep training? [y/n]y\n",
      "Epoch 21, CIFAR-10 Batch 1:  Loss:     0.0842 Validation Accuracy: 0.753000\n",
      "Epoch 21, CIFAR-10 Batch 2:  Loss:     0.0868 Validation Accuracy: 0.755800\n",
      "Epoch 21, CIFAR-10 Batch 3:  Loss:     0.0626 Validation Accuracy: 0.753200\n",
      "Epoch 21, CIFAR-10 Batch 4:  Loss:     0.0763 Validation Accuracy: 0.756200\n",
      "Epoch 21, CIFAR-10 Batch 5:  Loss:     0.0494 Validation Accuracy: 0.759800\n",
      "Epoch 22, CIFAR-10 Batch 1:  Loss:     0.0764 Validation Accuracy: 0.752600\n",
      "Epoch 22, CIFAR-10 Batch 2:  Loss:     0.0616 Validation Accuracy: 0.762600\n"
     ]
    },
    {
     "name": "stdout",
     "output_type": "stream",
     "text": [
      "Epoch 22, CIFAR-10 Batch 3:  Loss:     0.0397 Validation Accuracy: 0.752800\n",
      "Epoch 22, CIFAR-10 Batch 4:  Loss:     0.0772 Validation Accuracy: 0.753800\n",
      "Epoch 22, CIFAR-10 Batch 5:  Loss:     0.0323 Validation Accuracy: 0.772400\n",
      "Epoch 23, CIFAR-10 Batch 1:  Loss:     0.0704 Validation Accuracy: 0.757200\n",
      "Epoch 23, CIFAR-10 Batch 2:  Loss:     0.0564 Validation Accuracy: 0.744400\n",
      "Epoch 23, CIFAR-10 Batch 3:  Loss:     0.0432 Validation Accuracy: 0.759800\n",
      "Epoch 23, CIFAR-10 Batch 4:  Loss:     0.0516 Validation Accuracy: 0.760000\n",
      "Epoch 23, CIFAR-10 Batch 5:  Loss:     0.0345 Validation Accuracy: 0.761200\n",
      "Epoch 24, CIFAR-10 Batch 1:  Loss:     0.0586 Validation Accuracy: 0.755000\n",
      "Epoch 24, CIFAR-10 Batch 2:  Loss:     0.0715 Validation Accuracy: 0.761800\n",
      "Epoch 24, CIFAR-10 Batch 3:  Loss:     0.0330 Validation Accuracy: 0.760400\n",
      "Epoch 24, CIFAR-10 Batch 4:  Loss:     0.0685 Validation Accuracy: 0.755200\n",
      "Epoch 24, CIFAR-10 Batch 5:  Loss:     0.0317 Validation Accuracy: 0.754400\n",
      "Epoch 25, CIFAR-10 Batch 1:  Loss:     0.0558 Validation Accuracy: 0.752200\n",
      "Epoch 25, CIFAR-10 Batch 2:  Loss:     0.0372 Validation Accuracy: 0.762800\n",
      "Epoch 25, CIFAR-10 Batch 3:  Loss:     0.0389 Validation Accuracy: 0.757600\n",
      "Epoch 25, CIFAR-10 Batch 4:  Loss:     0.0434 Validation Accuracy: 0.757600\n",
      "Epoch 25, CIFAR-10 Batch 5:  Loss:     0.0167 Validation Accuracy: 0.768400\n",
      "Total training time 1:08:49.861665\n"
     ]
    }
   ],
   "source": [
    "\"\"\"\n",
    "DON'T MODIFY ANYTHING IN THIS CELL\n",
    "\"\"\"\n",
    "from datetime import datetime\n",
    "save_model_path = './image_classification'\n",
    "\n",
    "print('Training...')\n",
    "start = datetime.now()\n",
    "\n",
    "with tf.Session() as sess:\n",
    "    # Initializing the variables\n",
    "    sess.run(tf.global_variables_initializer())\n",
    "\n",
    "    # Training cycle\n",
    "    for epoch in range(epochs):\n",
    "        # Loop over all batches\n",
    "        if epoch in (30, 40, 50, 60):\n",
    "            resp = input('Keep training? [y/n]')\n",
    "            if resp == 'n':\n",
    "                break\n",
    "\n",
    "        n_batches = 5\n",
    "        for batch_i in range(1, n_batches + 1):\n",
    "            for batch_features, batch_labels in helper.load_preprocess_training_batch(batch_i, batch_size):\n",
    "                train_neural_network(sess, optimizer, keep_probability, batch_features, batch_labels)\n",
    "            print('Epoch {:>2}, CIFAR-10 Batch {}:  '.format(epoch + 1, batch_i), end='')\n",
    "            print_stats(sess, batch_features, batch_labels, cost, accuracy)\n",
    "    \n",
    "    # Total time\n",
    "    print('Total training time {}'.format(datetime.now() - start))    \n",
    "\n",
    "    # Save Model\n",
    "    saver = tf.train.Saver()\n",
    "    save_path = saver.save(sess, save_model_path)"
   ]
  },
  {
   "cell_type": "markdown",
   "metadata": {
    "collapsed": true
   },
   "source": [
    "# Checkpoint - Test Model"
   ]
  },
  {
   "cell_type": "code",
   "execution_count": 11,
   "metadata": {},
   "outputs": [
    {
     "name": "stdout",
     "output_type": "stream",
     "text": [
      "INFO:tensorflow:Restoring parameters from ./image_classification\n",
      "Testing Accuracy: 0.7528678797468354\n",
      "\n"
     ]
    },
    {
     "data": {
      "image/png": "[encoded data removed]",
      "text/plain": [
       "<matplotlib.figure.Figure at 0x7fe61ff92be0>"
      ]
     },
     "metadata": {
      "image/png": {
       "height": 319,
       "width": 355
      }
     },
     "output_type": "display_data"
    }
   ],
   "source": [
    "\"\"\"\n",
    "DON'T MODIFY ANYTHING IN THIS CELL\n",
    "\"\"\"\n",
    "%matplotlib inline\n",
    "%config InlineBackend.figure_format = 'retina'\n",
    "\n",
    "import tensorflow as tf\n",
    "import pickle\n",
    "import helper\n",
    "import random\n",
    "\n",
    "# Set batch size if not already set\n",
    "try:\n",
    "    if batch_size:\n",
    "        pass\n",
    "except NameError:\n",
    "    batch_size = 64\n",
    "\n",
    "save_model_path = './image_classification'\n",
    "n_samples = 4\n",
    "top_n_predictions = 3\n",
    "\n",
    "def test_model():\n",
    "    \"\"\"\n",
    "    Test the saved model against the test dataset\n",
    "    \"\"\"\n",
    "\n",
    "    test_features, test_labels = pickle.load(open('preprocess_test.p', mode='rb'))\n",
    "    loaded_graph = tf.Graph()\n",
    "\n",
    "    with tf.Session(graph=loaded_graph) as sess:\n",
    "        # Load model\n",
    "        loader = tf.train.import_meta_graph(save_model_path + '.meta')\n",
    "        loader.restore(sess, save_model_path)\n",
    "\n",
    "        # Get Tensors from loaded model\n",
    "        loaded_x = loaded_graph.get_tensor_by_name('x:0')\n",
    "        loaded_y = loaded_graph.get_tensor_by_name('y:0')\n",
    "        loaded_keep_prob = loaded_graph.get_tensor_by_name('keep_prob:0')\n",
    "        loaded_logits = loaded_graph.get_tensor_by_name('logits:0')\n",
    "        loaded_acc = loaded_graph.get_tensor_by_name('accuracy:0')\n",
    "        loaded_training = loaded_graph.get_tensor_by_name('is_training:0')\n",
    "        \n",
    "        # Get accuracy in batches for memory limitations\n",
    "        test_batch_acc_total = 0\n",
    "        test_batch_count = 0\n",
    "        \n",
    "        for test_feature_batch, test_label_batch in helper.batch_features_labels(test_features, test_labels, batch_size):\n",
    "            test_batch_acc_total += sess.run(\n",
    "                loaded_acc,\n",
    "                feed_dict={\n",
    "                    loaded_x: test_feature_batch,\n",
    "                    loaded_y: test_label_batch,\n",
    "                    loaded_keep_prob: 1.0,\n",
    "                    loaded_training:False\n",
    "                })\n",
    "            test_batch_count += 1\n",
    "\n",
    "        print('Testing Accuracy: {}\\n'.format(test_batch_acc_total/test_batch_count))\n",
    "\n",
    "        # Print Random Samples\n",
    "        random_test_features, random_test_labels = tuple(zip(*random.sample(list(zip(test_features, test_labels)), n_samples)))\n",
    "        random_test_predictions = sess.run(\n",
    "            tf.nn.top_k(tf.nn.softmax(loaded_logits), top_n_predictions),\n",
    "            feed_dict={\n",
    "                loaded_x: random_test_features,\n",
    "                loaded_y: random_test_labels,\n",
    "                loaded_keep_prob: 1.0,\n",
    "                loaded_training:False\n",
    "            })\n",
    "        helper.display_image_predictions(random_test_features, random_test_labels, random_test_predictions)\n",
    "\n",
    "\n",
    "test_model()"
   ]
  },
  {
   "cell_type": "code",
   "execution_count": null,
   "metadata": {
    "collapsed": true
   },
   "outputs": [],
   "source": []
  }
 ],
 "metadata": {
  "kernelspec": {
   "display_name": "Python 3",
   "language": "python",
   "name": "python3"
  },
  "language_info": {
   "codemirror_mode": {
    "name": "ipython",
    "version": 3
   },
   "file_extension": ".py",
   "mimetype": "text/x-python",
   "name": "python",
   "nbconvert_exporter": "python",
   "pygments_lexer": "ipython3",
   "version": "3.4.3"
  }
 },
 "nbformat": 4,
 "nbformat_minor": 2
}
