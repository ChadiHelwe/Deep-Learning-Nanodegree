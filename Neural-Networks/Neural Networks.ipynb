{
 "cells": [
  {
   "cell_type": "markdown",
   "metadata": {
    "deletable": true,
    "editable": true
   },
   "source": [
    "### Activation Function\n",
    "\n",
    "As funções de ativação são funções que decidem, dadas as entradas no nó, qual deve ser a saída do nó. Porque é a função de ativação que decide a saída real, muitas vezes nos referimos às saídas de uma camada como suas \"ativações\".\n",
    "\n",
    "A entrada para a unidade de saída (output unit) é passada através de uma função de ativação, $f(h)$, neste caso, a função de etapa (step function):\n",
    "\n",
    "\\begin{equation*}\n",
    "f(h) = \\begin{cases}\n",
    "0 & \\text{if $h$ } \\lt \\text{ 0} \\\\\n",
    "1 & \\text{if $h$ } \\ge \\text{ 0}\n",
    "\\end{cases}\n",
    "\\end{equation*}\n",
    "\n",
    "A unidade de saída (output unit) retorna o resultado de $f(h)$, onde $h$ é a entrada para a unidade de saída. (The output unit returns the result of f(h), where h is the input to the output unit):\n",
    "\n",
    "$h = \\sum_i w_i x_i + b$\n",
    "\n",
    "Ficando a formula completa do neurônio (perceptron) da seguinte forma:\n",
    "\n",
    "\\begin{equation*}\n",
    "f(x_1, x_2,\\ldots,x_m) = \\begin{cases}\n",
    "0 & \\text{if } b + \\sum w_i . x_i \\lt \\text{ 0} \\\\\n",
    "1 & \\text{if } b + \\sum w_i . x_i \\ge \\text{ 0}\n",
    "\\end{cases}\n",
    "\\end{equation*}\n",
    "\n",
    "O diagrama abaixo mostra uma rede simples. A combinação linear dos pesos, entradas e bias (w, x, b) forma a entrada h, que passa através da função de ativação $f(h)$, dando a saída final do perceptron, rotulado como $y$.\n",
    "\n",
    "![](https://d17h27t6h515a5.cloudfront.net/topher/2017/February/589366f0_simple-neuron/simple-neuron.png)\n",
    "\n",
    "A melhor parte sobre esta arquitetura, e o que torna possíveis redes neurais, é que a função de ativação $f(h)$ pode ser **qualquer função**, não apenas a step function mostrada anteriormente.\n",
    "\n",
    "Por exemplo, se $f(h) = h$, a saída será a mesma que a entrada. Assim a saída da rede neural é $y = \\sum_i w_i x_i + b$ pois $y = f(h) = h$"
   ]
  },
  {
   "cell_type": "markdown",
   "metadata": {
    "deletable": true,
    "editable": true
   },
   "source": [
    "Outra função de ativação (activation function) usada é a logistic ou sigmoid:\n",
    "\n",
    "$sigmoid(x) = 1/(1 + e^{-x})$\n",
    "\n",
    "Desta forma, a saída do perceptron fica:\n",
    "\n",
    "$y = f(h) = sigmoid(h)$\n",
    "\n",
    "Onde:\n",
    "\n",
    "- h = $\\sum_i w_i x_i + b$\n",
    "- w = weights (pesos para cada i)\n",
    "- x = inputs\n",
    "- b = bias\n",
    "\n",
    "A implementação em Python fica:"
   ]
  },
  {
   "cell_type": "code",
   "execution_count": 1,
   "metadata": {
    "collapsed": false,
    "deletable": true,
    "editable": true
   },
   "outputs": [
    {
     "name": "stdout",
     "output_type": "stream",
     "text": [
      "Output:\n",
      "0.432907095035\n"
     ]
    }
   ],
   "source": [
    "import numpy as np\n",
    "\n",
    "def sigmoid(x):\n",
    "    return 1/(1+np.exp(-x))\n",
    "\n",
    "inputs = np.array([0.7, -0.3])\n",
    "weights = np.array([0.1, 0.8])\n",
    "bias = -0.1\n",
    "\n",
    "# TODO: Calculate the output\n",
    "h = sum([(w*x) for w, x in zip(inputs, weights)])+bias # Input\n",
    "# Poderia ser feito com h = np.dot(weights, inputs) + bias\n",
    "\n",
    "output = sigmoid(h)\n",
    "\n",
    "print('Output:')\n",
    "print(output)\n"
   ]
  },
  {
   "cell_type": "markdown",
   "metadata": {
    "deletable": true,
    "editable": true
   },
   "source": [
    "### Sum of Squared Errors (SSE)\n",
    "\n",
    "A rede neural ajusta os pesos buscando minimizar o erro da previsão o máximo possível. Para isso, é usado o SSE.\n",
    "\n",
    "\\begin{equation*}\n",
    "E = \\frac{1}{2} \\sum_{\\mu} \\sum_{j} [y_j^{\\mu} - ŷ_j^{\\mu}]^2\n",
    "\\end{equation*}\n",
    "\n",
    "SSE é a suma total dos erros de uma rede neural onde:\n",
    "\n",
    "- $ŷ$ é o valor da predição\n",
    "- $y$ é o valor real\n",
    "- $j$ representa as unidades de saídas da rede neural\n",
    "- $u$ representa cada data point\n",
    "\n",
    "Primeiro, a soma interna sobre j. Esta variável j representa as unidades de saída da rede. Então, esta soma interna está dizendo para cada unidade de saída, encontrar a diferença entre o valor verdadeiro y e o valor previsto da rede ŷ, então faz o quadrado a diferença, em seguida, soma todos os quadrados. \n",
    "\n",
    "Então a outra soma sobre μ é uma soma sobre todos os pontos de dados. Assim, para cada ponto de dados você calcula a soma interna das diferenças ao quadrado para cada unidade de saída. Em seguida, você soma essas diferenças ao quadrado para cada ponto de dados. Isso resulta no erro geral para todas as previsões de saída para todos os pontos de dados. \n",
    "\n",
    "O SSE é uma boa escolha por algumas razões. O quadrado assegura que o erro é sempre positivo e erros maiores são penalizados mais do que erros menores. Além disso, torna a matemática agradável, sempre um plus."
   ]
  },
  {
   "cell_type": "markdown",
   "metadata": {
    "deletable": true,
    "editable": true
   },
   "source": [
    "\n",
    "A previsão, ou saída da rede neural, depende os pesos pois a previsão (saída) é igual a $f(h)$:\n",
    "\n",
    "\\begin{equation*}\n",
    "ŷ_j^{\\mu} = f(h) = f(\\sum_i w_{ij} x_i^{\\mu})\n",
    "\\end{equation*}\n",
    "\n",
    "Sendo assim, o erro também depende dos pesos:\n",
    "\n",
    "\\begin{equation*}\n",
    "E = \\frac{1}{2} \\sum_{\\mu} \\sum_{j} [y_j^{\\mu} - f(\\sum_i w_{ij} x_i^{\\mu})]^2\n",
    "\\end{equation*}\n",
    "\n",
    "Logo, ajustar os pesos influencia no total de erro da previsão. Para encontrar os pesos que resultem no menor erro, usa-se o **gradient descent**"
   ]
  },
  {
   "cell_type": "markdown",
   "metadata": {
    "deletable": true,
    "editable": true
   },
   "source": [
    "### Gradient Descent\n",
    "\n",
    "Gradiente é outro termo para taxa de mudança ou inclinação. Para calcular a taxa de mudança usamos funções derivadas.\n",
    "\n",
    "A derivada (taxa de mudança inst) de uma função $f(x)$ retorna outra função $f'(x)$ que nos mostra a inclinação (coef. angular) no ponto $x$.\n",
    "\n",
    "O gradiente é apenas um derivado generalizado para funções com mais de uma variável.\n",
    "\n",
    "Para entender melhor o que é uma derivada seguem 2 videos rápidos sobre o assunto."
   ]
  },
  {
   "cell_type": "code",
   "execution_count": 3,
   "metadata": {
    "collapsed": false,
    "deletable": true,
    "editable": true,
    "scrolled": true
   },
   "outputs": [
    {
     "data": {
      "image/jpeg": "[encoded data removed]",
      "text/html": [
       "\n",
       "        <iframe\n",
       "            width=\"400\"\n",
       "            height=\"300\"\n",
       "            src=\"https://www.youtube.com/embed/CQxb5ZXeY3E\"\n",
       "            frameborder=\"0\"\n",
       "            allowfullscreen\n",
       "        ></iframe>\n",
       "        "
      ],
      "text/plain": [
       "<IPython.lib.display.YouTubeVideo at 0x7fb0f40e1cc0>"
      ]
     },
     "execution_count": 3,
     "metadata": {},
     "output_type": "execute_result"
    }
   ],
   "source": [
    "from IPython.display import YouTubeVideo\n",
    "YouTubeVideo('CQxb5ZXeY3E') # O que é uma derivada"
   ]
  },
  {
   "cell_type": "code",
   "execution_count": 4,
   "metadata": {
    "collapsed": false,
    "deletable": true,
    "editable": true
   },
   "outputs": [
    {
     "data": {
      "image/jpeg": "[encoded data removed]",
      "text/html": [
       "\n",
       "        <iframe\n",
       "            width=\"400\"\n",
       "            height=\"300\"\n",
       "            src=\"https://www.youtube.com/embed/bGvYbU4Ax6U\"\n",
       "            frameborder=\"0\"\n",
       "            allowfullscreen\n",
       "        ></iframe>\n",
       "        "
      ],
      "text/plain": [
       "<IPython.lib.display.YouTubeVideo at 0x7fb0ce9c6cf8>"
      ]
     },
     "execution_count": 4,
     "metadata": {},
     "output_type": "execute_result"
    }
   ],
   "source": [
    "from IPython.display import YouTubeVideo\n",
    "YouTubeVideo('bGvYbU4Ax6U') # Calculando a derivada"
   ]
  },
  {
   "cell_type": "markdown",
   "metadata": {
    "deletable": true,
    "editable": true
   },
   "source": [
    "O processo de atualização dos pesos ($w$) é feito atravez da [derivativa parcial](https://pt.wikipedia.org/wiki/Derivada_parcial) (para funções com mais de 1 variável) do erro obtido pelo SSE. O processo para chegar a equação de variação do peso é complicado pois usa mais de uma vez a derivada parcial e a [regra de cadeia](https://pt.wikipedia.org/wiki/Regra_da_cadeia). O mais importante agora é saber:\n",
    "\n",
    " - A váriação dos pesos ($w$) pode ser calculado como $\\Delta w_i = \\eta \\delta x_i$ sendo $\\delta$ (delta) calculado como:\n",
    "\n",
    "\\begin{equation*}\n",
    "\\delta = (y - ŷ)f'(h) = (y - ŷ)f'(\\sum w_i x_i)\n",
    "\\end{equation*}\n",
    "\n",
    "Lembre-se, na equação acima $(y - ŷ)$ é o erro de saída, e $f'(h)$ refere-se à derivada da função de ativação $f(h)$. Chamaremos esse derivado de gradiente de saída.\n",
    "\n",
    "A implementação em Python fica:"
   ]
  },
  {
   "cell_type": "code",
   "execution_count": 3,
   "metadata": {
    "collapsed": false,
    "deletable": true,
    "editable": true
   },
   "outputs": [
    {
     "name": "stdout",
     "output_type": "stream",
     "text": [
      "Neural Network output:\n",
      "0.689974481128\n",
      "Amount of Error:\n",
      "-0.189974481128\n",
      "Change in Weights:\n",
      "[-0.020318691802303994, -0.040637383604607988, -0.060956075406911982, -0.081274767209215976]\n"
     ]
    }
   ],
   "source": [
    "import numpy as np\n",
    "\n",
    "def sigmoid(x):\n",
    "    \"\"\"\n",
    "    Calculate sigmoid\n",
    "    \"\"\"\n",
    "    return 1/(1+np.exp(-x))\n",
    "\n",
    "def sigmoid_prime(x):\n",
    "    \"\"\"\n",
    "    # Derivative of the sigmoid function\n",
    "    \"\"\"\n",
    "    return sigmoid(x) * (1 - sigmoid(x))\n",
    "\n",
    "learnrate = 0.5\n",
    "x = np.array([1, 2, 3, 4])\n",
    "y = np.array(0.5)\n",
    "\n",
    "# Initial weights\n",
    "w = np.array([0.5, -0.5, 0.3, 0.1])\n",
    "\n",
    "### Calculate one gradient descent step for each weight\n",
    "### Note: Some steps have been consilated, so there are\n",
    "###       fewer variable names than in the above sample code\n",
    "\n",
    "# TODO: Calculate the node's linear combination of inputs and weights\n",
    "h = np.dot(w, x)\n",
    "\n",
    "# TODO: Calculate output of neural network\n",
    "nn_output = sigmoid(h)\n",
    "\n",
    "# TODO: Calculate error of neural network\n",
    "error = y - nn_output\n",
    "\n",
    "output_grad = sigmoid_prime(h)\n",
    "\n",
    "# TODO: Calculate the error term\n",
    "#       Remember, this requires the output gradient, which we haven't\n",
    "#       specifically added a variable for.\n",
    "error_term = error * output_grad\n",
    "\n",
    "# TODO: Calculate change in weights\n",
    "del_w = [learnrate*error_term*i for i in x]\n",
    "\n",
    "print('Neural Network output:')\n",
    "print(nn_output)\n",
    "print('Amount of Error:')\n",
    "print(error)\n",
    "print('Change in Weights:')\n",
    "print(del_w)"
   ]
  },
  {
   "cell_type": "markdown",
   "metadata": {
    "collapsed": true,
    "deletable": true,
    "editable": true
   },
   "source": [
    "### Mean Square Error\n",
    "\n",
    "Em situações onde são usados mais dados de input, usar o SSE pode resultar em atualizações muito grandes nos pesos (w). Para compensar esse efeito, o learning rate (taxa de aprendizado) precisa ser realmente muito baixa ou então pode-se usar a média dos erros, assim não importa o volume dos dados o learning rate continua em seu range normal entre 0.01 e 0.001.\n",
    "\n",
    "A formula do MSE é:\n",
    "\n",
    "\\begin{equation*}\n",
    "E = \\frac{1}{2m} \\sum_{\\mu} (y^{\\mu} - ŷ^{\\mu})^2\n",
    "\\end{equation*}\n"
   ]
  },
  {
   "cell_type": "markdown",
   "metadata": {
    "deletable": true,
    "editable": true
   },
   "source": [
    "Abaixo segue um algoritmo geral para atualizar os pesos com gradient descent:\n",
    "\n",
    "- Estabeleça o valor do weight step: $\\Delta w_i = 0$\n",
    "- Para cada registro nos dados de treinamento:\n",
    " - Passe os valores pela rede neural, calculando a saída $ŷ = f(\\sum_i w_i x_i)$\n",
    " - Calcule o erro (error term) para a unidade de saída: $\\delta = (y - ŷ)*f'(\\sum_i w_i x_i)$\n",
    " - Atualize o weight step: $\\Delta w_i = \\Delta w_i + \\delta x_i$\n",
    "- Atualize os pesos: $w_i = w_i + \\eta \\Delta w_i \\div m$ onde $\\eta$ é o learning rate e $m$ é o número de registros. Aqui esta a média que ajuda a reduzir qualquer grande variação nos dados de treinamento.\n",
    "- Repita para cada $e$ epochs"
   ]
  },
  {
   "cell_type": "markdown",
   "metadata": {
    "collapsed": true,
    "deletable": true,
    "editable": true
   },
   "source": [
    "### Links importantes\n",
    "\n",
    "- https://mattmazur.com/2015/03/17/a-step-by-step-backpropagation-example/\n",
    "- http://neuralnetworksanddeeplearning.com/\n",
    "- http://eli.thegreenplace.net/2016/understanding-gradient-descent/\n",
    "- https://www.khanacademy.org/math/ap-calculus-ab/derivative-introduction-ab/intro-to-diff-calculus-ab/v/newton-leibniz-and-usain-bolt"
   ]
  },
  {
   "cell_type": "markdown",
   "metadata": {
    "collapsed": true,
    "deletable": true,
    "editable": true
   },
   "source": [
    "## Implementing the Hidden Layer\n",
    "\n",
    "Material de apoio\n",
    "\n",
    "- https://www.khanacademy.org/math/linear-algebra/vectors-and-spaces/vectors/v/vector-introduction-linear-algebra\n",
    "- https://www.khanacademy.org/math/precalculus/precalc-matrices\n",
    "\n",
    "\n",
    "### Derivação\n",
    "\n",
    "Ao lidar com multiplas intradas e camadas na rede neural, os pesos ($w$) vão precisar de 2 indices ($w_{ij}$)\n",
    "\n",
    "- i para unidades de entrada (input units)\n",
    "- j para unidades escondidas (hidden units)\n",
    "\n",
    "Assim, os pesos passam a ser representados como matrizes onde as linhas da matriz representão as unidades ocultas (hidden units) e as colunas as unidades de entrada.\n",
    "\n",
    "![](https://d17h27t6h515a5.cloudfront.net/topher/2017/February/58a49908_multilayer-diagram-weights/multilayer-diagram-weights.png)\n",
    "\n",
    "Cada linha na matriz corresponderá aos pesos que saem de uma única unidade de entrada e cada coluna corresponderá aos pesos que conduzem a uma única unidade oculta."
   ]
  },
  {
   "cell_type": "markdown",
   "metadata": {
    "deletable": true,
    "editable": true
   },
   "source": [
    "Como os pesos agora são representados na forma de matriz, para calcular a entrada para uma unidade oculta (hidden unit) precisamos a usar multiplicação de matrizes pois $h_j = \\sum_i w_{ij} x_i$\n",
    "\n",
    "![](https://d17h27t6h515a5.cloudfront.net/topher/2017/January/58895788_input-times-weights/input-times-weights.png)"
   ]
  },
  {
   "cell_type": "markdown",
   "metadata": {
    "deletable": true,
    "editable": true
   },
   "source": [
    "\\begin{equation*}\n",
    "h_1 = x_1 w_{11} + x_2 w_{21} + x_3 w_{31}\n",
    "\\end{equation*}"
   ]
  },
  {
   "cell_type": "markdown",
   "metadata": {
    "collapsed": true,
    "deletable": true,
    "editable": true
   },
   "source": [
    "**Importante:** Com os pesos no formato de matriz, precisamos obedecer as regras de multiplicação de matrizes vistas anteriormente."
   ]
  },
  {
   "cell_type": "markdown",
   "metadata": {
    "deletable": true,
    "editable": true
   },
   "source": [
    "### Column Vector\n",
    "\n",
    "Devido as regras de multiplicação de matrizes, pode ser necessário transformar um array Numpy em uma coluna de vetores (column Vector). Para isso, veja os exemplos abaixo:"
   ]
  },
  {
   "cell_type": "code",
   "execution_count": 2,
   "metadata": {
    "collapsed": false,
    "deletable": true,
    "editable": true
   },
   "outputs": [],
   "source": [
    "import numpy as np\n",
    "\n",
    "features = np.array([0.1, 0.2, 0.3])"
   ]
  },
  {
   "cell_type": "code",
   "execution_count": 3,
   "metadata": {
    "collapsed": false,
    "deletable": true,
    "editable": true
   },
   "outputs": [
    {
     "name": "stdout",
     "output_type": "stream",
     "text": [
      "[ 0.1  0.2  0.3]\n"
     ]
    }
   ],
   "source": [
    "# Array Numpy\n",
    "print(features)"
   ]
  },
  {
   "cell_type": "code",
   "execution_count": 4,
   "metadata": {
    "collapsed": false,
    "deletable": true,
    "editable": true
   },
   "outputs": [
    {
     "name": "stdout",
     "output_type": "stream",
     "text": [
      "[ 0.1  0.2  0.3]\n"
     ]
    }
   ],
   "source": [
    "# Array transposto. Não atende\n",
    "print(features.T)"
   ]
  },
  {
   "cell_type": "code",
   "execution_count": 5,
   "metadata": {
    "collapsed": false,
    "deletable": true,
    "editable": true
   },
   "outputs": [
    {
     "name": "stdout",
     "output_type": "stream",
     "text": [
      "[[ 0.1]\n",
      " [ 0.2]\n",
      " [ 0.3]]\n"
     ]
    }
   ],
   "source": [
    "# Coluna de vetores\n",
    "print(features[:, None])"
   ]
  },
  {
   "cell_type": "markdown",
   "metadata": {
    "deletable": true,
    "editable": true
   },
   "source": [
    "### Exemplo\n",
    "\n",
    "Abaixo é aplicado uma rede neural com multiplas camadas como exemplo"
   ]
  },
  {
   "cell_type": "code",
   "execution_count": 7,
   "metadata": {
    "collapsed": false,
    "deletable": true,
    "editable": true
   },
   "outputs": [
    {
     "name": "stdout",
     "output_type": "stream",
     "text": [
      "Hidden-layer Output:\n",
      "[ 0.41492192  0.42604313  0.5002434 ]\n",
      "Output-layer Output:\n",
      "[ 0.49815196  0.48539772]\n"
     ]
    }
   ],
   "source": [
    "import numpy as np\n",
    "\n",
    "def sigmoid(x):\n",
    "    \"\"\"\n",
    "    Calculate sigmoid\n",
    "    \"\"\"\n",
    "    return 1/(1+np.exp(-x))\n",
    "\n",
    "\n",
    "# Network size\n",
    "N_input = 4\n",
    "N_hidden = 3\n",
    "N_output = 2\n",
    "\n",
    "np.random.seed(42)\n",
    "# Make some fake data\n",
    "X = np.random.randn(4)\n",
    "\n",
    "weights_input_to_hidden = np.random.normal(0, scale=0.1, size=(N_input, N_hidden))\n",
    "weights_hidden_to_output = np.random.normal(0, scale=0.1, size=(N_hidden, N_output))\n",
    "\n",
    "\n",
    "# TODO: Make a forward pass through the network\n",
    "\n",
    "# Aplica a soma linear das multiplicações entre entradas e pesos. O h das equações\n",
    "hidden_layer_in = np.dot(X, weights_input_to_hidden)\n",
    "\n",
    "# Aplica a step function que neste caso é a sigmoid\n",
    "hidden_layer_out = sigmoid(hidden_layer_in)\n",
    "\n",
    "print('Hidden-layer Output:')\n",
    "print(hidden_layer_out)\n",
    "\n",
    "# A saida do perceptron na hidden layer é a entrada do perceptron de saida.\n",
    "# Aplica a soma das mult. entre as entradas (saidas da camada anterior) aos pesos atribuidos a elas.\n",
    "output_layer_in = np.dot(hidden_layer_out, weights_hidden_to_output)\n",
    "\n",
    "# Aplica a step function (tbm a sigmoid) para obter a saida da rede neural.\n",
    "output_layer_out = sigmoid(output_layer_in)\n",
    "\n",
    "print('Output-layer Output:')\n",
    "print(output_layer_out)"
   ]
  },
  {
   "cell_type": "markdown",
   "metadata": {
    "deletable": true,
    "editable": true
   },
   "source": [
    "## Backpropagation\n",
    "\n",
    "Backpropagation é um algoritmo com a finalidade de encontrar o erro entre as camadas da rede neural.\n",
    "\n",
    "Com base no erro calculado na saída da rede neural, usa-se a função derivada e chain rule para obter a equação que calcula o erro nas camadas anteriores. Desta forma, o erro é propagado no sentido contrário da rede neural, posibilitanto o ajuste dos pesos em todas as camadas.\n",
    "\n",
    "Exemplo: Vamos calcular a saída de uma rede neural simples, com 2 entrada, 1 hidden layer e 1 output layer como na imagem abaixo:\n",
    "\n",
    "![](https://d17h27t6h515a5.cloudfront.net/topher/2017/January/588bb45d_backprop-network/backprop-network.png)\n",
    "\n",
    "Vamos assumir que o valor target seja 1 ($y = 1$) seguimos os passos\n",
    "\n",
    "Vamos calcular o input para o hidden layer (já que as unidades de entrada são os valores em si). A equação para o calculo da entrada é $h = \\sum_i w_i x_i$ então:\n",
    "\n",
    "$h = (0.1 \\times 0.4) + (0.3 \\times -0.2) => 0.04 + (-0.06) = -0.02$\n",
    "\n",
    "Então passamos este valor pela função de ativação, neste caso a sigmoid ($sigmoid(h) = 1/(1 + e^{-h})$):\n",
    "\n",
    "$a = sigmoid(-0.02) => 1 / (1 + e^{-(-0.02)}) = 0.495$\n",
    "\n",
    "Então, 0.495 é a saída da hidden unit (um único perceptron) e é passado como a entrada do output unit (tbm um único perceptron). Assim, como temos apenas uma entrada, basta multiplicar o input com seu peso e aplicar a função de ativação sigmoid e assim obtemos a saída da rede neural:\n",
    "\n",
    "$h = 0.495 \\times 0.1 = 0.0495$\n",
    "\n",
    "$ŷ = sigmoid(0.0495) => 1 / (1 + e^{-0.0495}) = 0.512$\n",
    "\n",
    "Com base na saída da rede neural, podemos calcular o erro (error term) do output unit com a formula vista anteriormente $\\delta = (y - ŷ)*f'(h)$ lembrando que $h = \\sum_i w_i x_i$. Então temos:\n",
    "\n",
    "$\\delta = (y - ŷ) \\times f'(h)$\n",
    "\n",
    "$(y - ŷ) = (1 - 0.512) = 0.488$\n",
    "\n",
    "$sigmoid(h) = ŷ$\n",
    "\n",
    "$f'(h) = (sigmoid(h) \\times (1 - sigmoid(h))) = (0.512 \\times (1 - 0.512)) = 0.512 \\times 0.488 = 0.2498$\n",
    "\n",
    "$\\delta = 0.488 \\times 0.2498 = 0.122$\n",
    "\n",
    "Agora vamos calcular o error term para a hidden unit (neste caso, só termos um percptron na hidden layer) com backpropagation. Para isso vamos \"navegar\" na rede neural no sentido contrário e vamos passar para o hidden unit o error term da output unit (o erro final da rede):\n",
    "\n",
    "A equação usada é $\\delta_j^h = \\sum_k w_{jk} \\delta_k f'(h_j)$\n",
    "\n",
    "$\\delta^h = w \\delta f'(h_j) = 0.1 \\times 0.122 \\times f'(h) => 0.1 \\times 0.122 \\times 0.249 = 0.003$\n",
    "\n",
    "Onde:\n",
    "- 0.1 é o peso ($w$) entre a hidden unit e o output unit ($w$);\n",
    "- 0.122 é o error term da output unit ($\\delta$);\n",
    "- 0.249 é a derivada da função sigmoid de ativação ($f'(h)$)\n",
    "\n",
    "Agora, com o erro das output e hidden units podemos calcular o gradient descent. A variação do peso entre a hidden unit e output unit é calculado multiplicando o learning rate ($\\eta$) com o output error ($\\delta$) com o input desta unidade ($a$):\n",
    "\n",
    "$\\Delta w = \\eta \\delta a => 0.5 \\times 0.122 \\times 0.495 = 0.0302$\n",
    "\n",
    "Agora podemos calcular a variação dos pesos entre as input units e a hidden unit. Como temos 2 entradas, são gerados 2 valores.\n",
    "\n",
    "$\\Delta w_1 = \\eta \\delta^h x_1 => 0.5 \\times 0.003 \\times 0.1 = 0.00015$\n",
    "\n",
    "$\\Delta w_2 = \\eta \\delta^h x_2 => 0.5 \\times 0.003 \\times 0.3 = 0.00045$"
   ]
  },
  {
   "cell_type": "code",
   "execution_count": 42,
   "metadata": {
    "collapsed": false,
    "deletable": true,
    "editable": true
   },
   "outputs": [
    {
     "name": "stdout",
     "output_type": "stream",
     "text": [
      "Change in weights for hidden layer to output layer:\n",
      "[ 0.00804047  0.00555918]\n",
      "Change in weights for input layer to hidden layer:\n",
      "[[  1.77005547e-04  -5.11178506e-04]\n",
      " [  3.54011093e-05  -1.02235701e-04]\n",
      " [ -7.08022187e-05   2.04471402e-04]]\n"
     ]
    }
   ],
   "source": [
    "# Este exercício esta muito ruim. Não é fácil \"mapear\" o exercício para o exemplo.\n",
    "import numpy as np\n",
    "\n",
    "\n",
    "def sigmoid(x):\n",
    "    \"\"\"\n",
    "    Calculate sigmoid\n",
    "    \"\"\"\n",
    "    return 1 / (1 + np.exp(-x))\n",
    "\n",
    "\n",
    "x = np.array([0.5, 0.1, -0.2])\n",
    "target = 0.6\n",
    "learnrate = 0.5\n",
    "\n",
    "weights_input_hidden = np.array([[0.5, -0.6],\n",
    "                                 [0.1, -0.2],\n",
    "                                 [0.1, 0.7]])\n",
    "\n",
    "weights_hidden_output = np.array([0.1, -0.3])\n",
    "\n",
    "## Forward pass\n",
    "hidden_layer_input = np.dot(x, weights_input_hidden)\n",
    "hidden_layer_output = sigmoid(hidden_layer_input)\n",
    "\n",
    "output_layer_in = np.dot(hidden_layer_output, weights_hidden_output)\n",
    "output = sigmoid(output_layer_in)\n",
    "\n",
    "## Backwards pass\n",
    "## TODO: Calculate error\n",
    "error = target - output\n",
    "\n",
    "# TODO: Calculate error gradient for output layer\n",
    "del_err_output = error * output * (1 - output)\n",
    "\n",
    "# TODO: Calculate error gradient for hidden layer\n",
    "del_err_hidden = np.dot(del_err_output, weights_hidden_output) * \\\n",
    "                 hidden_layer_output * (1 - hidden_layer_output)\n",
    "\n",
    "# TODO: Calculate change in weights for hidden layer to output layer\n",
    "delta_w_h_o = learnrate * del_err_output * hidden_layer_output\n",
    "\n",
    "# TODO: Calculate change in weights for input layer to hidden layer\n",
    "delta_w_i_h = learnrate * del_err_hidden * x[:, None]\n",
    "\n",
    "print('Change in weights for hidden layer to output layer:')\n",
    "print(delta_w_h_o)\n",
    "print('Change in weights for input layer to hidden layer:')\n",
    "print(delta_w_i_h)"
   ]
  },
  {
   "cell_type": "markdown",
   "metadata": {
    "collapsed": true,
    "deletable": true,
    "editable": true
   },
   "source": [
    "### Implementação do Backpropagation\n",
    "\n",
    "Formula do erro na camada de saída (saída da R.N./ output layer) é $\\delta_k = (y_k - ŷ_k) f'(a_k)$\n",
    "\n",
    "Formula do erro na camana oculta (hidden layer) é $\\delta_j = \\sum [w_{jk} \\delta_k] f'(h_j)$"
   ]
  },
  {
   "cell_type": "markdown",
   "metadata": {},
   "source": [
    "#### Backpropagation passo a passo\n",
    "\n",
    "Considerando uma rede neural simples, com 1 camada oculta e uma unidade de saída, os passos para atualizar os pesos com backpropagation são:\n",
    "\n",
    "- Igualar a variação dos pesos a zero\n",
    " - Variação de peso entre entrada e camada oculta $\\Delta w_{ij} = 0$\n",
    " - Variação de peso entre camada oculta e saída da rede $\\Delta W_{j} = 0$\n",
    "\n",
    "- Para cada entrada nos dados de treinamento\n",
    " - Passar os valores pela rede para obter a saída (predição) da rede $ŷ$\n",
    " - Calcular o error gradient na unidade de saída, $\\deltaº = (y - ŷ) f'(z)$ onde $z = \\sum_j W_j a_j$, a entrada para a unidade de saída\n",
    " - Propagar os erros para a camada oculta $\\delta_j^h = \\delta^o W_j f'(h_j)$\n",
    " - Atualizar a variação dos pesos:\n",
    "   - $\\Delta W_j = \\Delta W_j + \\delta^o a_j$\n",
    "   - $\\Delta w_{ij} = \\Delta w_{ij} + \\delta_j^h a_i$\n",
    " \n",
    "- Atualizar os pesos apartir das variações dos pesos, onde $\\eta$ é a taxa de aprendizado e $m$ o número de registros\n",
    " - $W_j = W_j + \\eta \\Delta W_j / m$\n",
    " - $w_{ij} = w_{ij} + \\eta \\Delta w_{ij} / m$\n",
    "\n",
    "- Repedir\n",
    "\n",
    "### Links importantes\n",
    "\n",
    "- https://medium.com/@karpathy/yes-you-should-understand-backprop-e2f06eab496b\n",
    "- https://www.youtube.com/watch?v=59Hbtz7XgjM"
   ]
  },
  {
   "cell_type": "code",
   "execution_count": null,
   "metadata": {
    "collapsed": true
   },
   "outputs": [],
   "source": []
  }
 ],
 "metadata": {
  "kernelspec": {
   "display_name": "Python 3",
   "language": "python",
   "name": "python3"
  },
  "language_info": {
   "codemirror_mode": {
    "name": "ipython",
    "version": 3
   },
   "file_extension": ".py",
   "mimetype": "text/x-python",
   "name": "python",
   "nbconvert_exporter": "python",
   "pygments_lexer": "ipython3",
   "version": "3.4.3"
  }
 },
 "nbformat": 4,
 "nbformat_minor": 2
}
