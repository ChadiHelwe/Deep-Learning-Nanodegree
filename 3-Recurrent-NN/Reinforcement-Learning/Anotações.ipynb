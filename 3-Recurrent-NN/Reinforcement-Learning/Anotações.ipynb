{
 "cells": [
  {
   "cell_type": "markdown",
   "metadata": {},
   "source": [
    "# Coisas a ler\n",
    "\n",
    "- Series of blog posts on [reinforcement learning](https://medium.com/emergent-future/simple-reinforcement-learning-with-tensorflow-part-0-q-learning-with-tables-and-neural-networks-d195264329d0)\n",
    "- [Human-level control through deep reinforcement learning](http://www.davidqiu.com:8888/research/nature14236.pdf)\n",
    "- An implementation of [Deep Q-Network in TensorFlow](https://github.com/devsisters/DQN-tensorflow)\n",
    "- Blog post on [Q-learning and the Cart-Pole game](https://github.com/devsisters/DQN-tensorflow)"
   ]
  },
  {
   "cell_type": "markdown",
   "metadata": {},
   "source": [
    "## Q-Learning\n",
    "\n",
    "Existem vários algoritmos de RL mas será apresentado apenas o Q-Learning por restrições de tempo.\n",
    "\n",
    "RL é usado em problemas simples (toy projects) e em problemas muito complicados.\n",
    "\n",
    "**Conceitos importantes:**\n",
    "\n",
    "- Estados: Um **estado** é um arranjo particular de todos os objetos em um ambiente. Por exemplo a posição de um personagem em um tabuleiro onde cada posição é um estado possível.\n",
    "\n",
    "- Ações: Ação é a mudança de estado do agente.\n",
    "\n",
    "Em QL criamos uma tabela (Q-Table) onde as linhas são as ações e as colunas são os estados. Os valores representão as recompensas esperadas para as futuras opções do agente. O agente usa esta tabela encontrando qual linha representa seu estado atual e escolhendo a ação com maior valor.\n",
    "\n",
    "QL consiste em deixar o agente explorar as opções e atualizar o Q-Table com suas experiencias."
   ]
  },
  {
   "cell_type": "code",
   "execution_count": null,
   "metadata": {
    "collapsed": true
   },
   "outputs": [],
   "source": []
  }
 ],
 "metadata": {
  "kernelspec": {
   "display_name": "Python 3",
   "language": "python",
   "name": "python3"
  },
  "language_info": {
   "codemirror_mode": {
    "name": "ipython",
    "version": 3
   },
   "file_extension": ".py",
   "mimetype": "text/x-python",
   "name": "python",
   "nbconvert_exporter": "python",
   "pygments_lexer": "ipython3",
   "version": "3.4.3"
  }
 },
 "nbformat": 4,
 "nbformat_minor": 2
}
